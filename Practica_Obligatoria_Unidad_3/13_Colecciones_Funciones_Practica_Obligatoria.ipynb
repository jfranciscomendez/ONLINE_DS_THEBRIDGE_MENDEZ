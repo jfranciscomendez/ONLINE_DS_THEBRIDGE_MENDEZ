{
 "cells": [
  {
   "cell_type": "markdown",
   "metadata": {
    "id": "ADWQpQ_-bfsf"
   },
   "source": [
    "![TheBridge_logo_RGB_color.jpg](attachment:TheBridge_logo_RGB_color.jpg)"
   ]
  },
  {
   "cell_type": "markdown",
   "metadata": {
    "id": "ybdcti5ybfsi"
   },
   "source": [
    "![ejercicios.png](attachment:ejercicios.png)"
   ]
  },
  {
   "cell_type": "markdown",
   "metadata": {
    "id": "Sc9uKCebbfsi"
   },
   "source": [
    "## PRACTICA OBLIGATORIA: COLECCIONES Y FUNCIONES"
   ]
  },
  {
   "cell_type": "markdown",
   "metadata": {
    "id": "JVi2YEM_bfsi"
   },
   "source": [
    "* La práctica obligatoria de esta unidad consiste varios ejercicios de programación libre a completar sobre Colecciones y Funciones. Descarga este notebook en tu ordenador y trabaja en local.  \n",
    "* Recuerda que debes subirla a tu repositorio personal antes de la sesión en vivo para que puntúe adecuadamente y puedas participar en dicha sesión.  \n",
    "* Recuerda también que no es necesario que esté perfecta, sólo es necesario que se vea el esfuerzo.\n",
    "* Esta práctica se resolverá en la sesión en vivo correspondiente y la solución se publicará en el repo del curso."
   ]
  },
  {
   "cell_type": "markdown",
   "metadata": {
    "id": "WhfzSoLNbfsj"
   },
   "source": [
    "### Contenidos"
   ]
  },
  {
   "cell_type": "markdown",
   "metadata": {
    "id": "2HajrTL9bfsj"
   },
   "source": [
    "## Ejercicio 1\n",
    "Eleva todos los elementos de la lista al cuadrado\n",
    "> ```ejer_2 = [1,2,3,4,5]```"
   ]
  },
  {
   "cell_type": "code",
   "execution_count": null,
   "metadata": {
    "id": "wa1nl2AUbfsj",
    "outputId": "34781b25-bf78-47d0-c8f7-8470fb280add"
   },
   "outputs": [
    {
     "name": "stdout",
     "output_type": "stream",
     "text": [
      "1\n",
      "4\n",
      "9\n",
      "16\n",
      "25\n"
     ]
    }
   ],
   "source": [
    "ejer_2 = [1,2,3,4,5]\n",
    "\n",
    "for x in ejer_2:\n",
    "    x = x**2\n",
    "    print(x)\n",
    "\n",
    "\n"
   ]
  },
  {
   "cell_type": "markdown",
   "metadata": {
    "id": "xgc4wyqZbfsl"
   },
   "source": [
    "## Ejercicio 2\n",
    "Haz un programa que detecte todos los duplicados de un elemento en una lista:\n",
    "* Utiliza una variable duplicado para asignarle el valor del elemento del que queremos encontrar todos sus duplicados.\n",
    "* El programa debe devolver todos los índices de los elementos duplicados.\n",
    "* Aplícalo para encontrar los duplicados de \"un\", \"es\" y \"binario\" de:  \n",
    "\n",
    ">```ejer_3 = [\"Un\", \"árbol\", \"binario\", \"es\", \"una\", \"estructura\", \"de\", \"un\", \"tipo\", \"particular\", \"a\", \"veces\", \"no\", \"es\", \"ni\", \"binario\"]```\n"
   ]
  },
  {
   "cell_type": "code",
   "execution_count": null,
   "metadata": {
    "id": "fVccPzecbfsl",
    "outputId": "0a2c4af5-2af3-4ab7-d292-cb093ead5d3c"
   },
   "outputs": [
    {
     "name": "stdout",
     "output_type": "stream",
     "text": [
      "7 >>>> un\n",
      "3 >>>> es\n",
      "13 >>>> es\n",
      "2 >>>> binario\n",
      "15 >>>> binario\n"
     ]
    }
   ],
   "source": [
    "ejer_3 = [\"Un\", \"árbol\", \"binario\", \"es\", \"una\", \"estructura\", \"de\", \"un\", \"tipo\", \"particular\", \"a\", \"veces\", \"no\", \"es\", \"ni\", \"binario\"]\n",
    "\n",
    "duplicado = \"un\"\n",
    "for indice in range(len(ejer_3)):\n",
    "    if ejer_3[indice] == duplicado:\n",
    "        print(indice,\">>>>\",ejer_3[indice])\n",
    "\n",
    "duplicado = \"es\"\n",
    "for indice in range(len(ejer_3)):\n",
    "    if ejer_3[indice] == duplicado:\n",
    "        print(indice,\">>>>\",ejer_3[indice])\n",
    "\n",
    "duplicado = \"binario\"\n",
    "for indice in range(len(ejer_3)):\n",
    "    if ejer_3[indice] == duplicado:\n",
    "        print(indice,\">>>>\",ejer_3[indice])\n"
   ]
  },
  {
   "cell_type": "markdown",
   "metadata": {
    "id": "mbwBb5cZbfsm"
   },
   "source": [
    "## Ejercicio 3\n",
    "1. ¿Cuántas veces se repite el 3 en la siguiente tupla?\n",
    "2. Crea una tupla nueva con los elementos desde la posicion 5 a la 10.\n",
    "3. ¿Cuántos elementos tiene la tupla `ejer_9`?\n",
    "> ```ejer_9 = (3, 20, 3, 47, 19, 3, 29, 45, 67, 78, 90, 3, 3, 5, 2, 4, 7, 9, 4, 2, 4, 3, 3, 4, 6, 7)```"
   ]
  },
  {
   "cell_type": "code",
   "execution_count": null,
   "metadata": {
    "id": "hh3QKTXRbfsm",
    "outputId": "6d65617b-0c77-4f08-c3d3-85683a2c9b70"
   },
   "outputs": [
    {
     "name": "stdout",
     "output_type": "stream",
     "text": [
      "El 3 se repite 7 veces\n",
      "(3, 29, 45, 67, 78, 90) <class 'tuple'>\n"
     ]
    },
    {
     "data": {
      "text/plain": [
       "26"
      ]
     },
     "execution_count": 66,
     "metadata": {},
     "output_type": "execute_result"
    }
   ],
   "source": [
    "ejer_9 = (3, 20, 3, 47, 19, 3, 29, 45, 67, 78, 90, 3, 3, 5, 2, 4, 7, 9, 4, 2, 4, 3, 3, 4, 6, 7)\n",
    "\n",
    "print(\"El 3 se repite\", ejer_9.count(3),\"veces\")\n",
    "\n",
    "ejer_9_n = list(ejer_9)\n",
    "\n",
    "new = ejer_9_n[5:11]\n",
    "\n",
    "nueva_tupla = tuple(new)\n",
    "print(nueva_tupla, type(nueva_tupla))\n",
    "\n",
    "len(ejer_9)\n",
    "\n",
    "\n",
    "\n"
   ]
  },
  {
   "cell_type": "markdown",
   "metadata": {
    "id": "NVENa6Fybfsm"
   },
   "source": [
    "## Ejercicio 4\n",
    "Comprueba si el numero 60 esta en la tupla del ejercicio 3"
   ]
  },
  {
   "cell_type": "code",
   "execution_count": null,
   "metadata": {
    "id": "aWGmU0CAbfsm",
    "outputId": "bd520eb6-5bb3-4c66-f27e-e8b6db32445a"
   },
   "outputs": [
    {
     "name": "stdout",
     "output_type": "stream",
     "text": [
      "El numero no esta en la lista\n"
     ]
    }
   ],
   "source": [
    "ejer_9 = (3, 20, 3, 47, 19, 3, 29, 45, 67, 78, 90, 3, 3, 5, 2, 4, 7, 9, 4, 2, 4, 3, 3, 4, 6, 7)\n",
    "numero = 60\n",
    "if numero in ejer_9:\n",
    "    print(\"El numero esta en la lista\")\n",
    "else:\n",
    "    print(\"El numero no esta en la lista\")\n"
   ]
  },
  {
   "cell_type": "markdown",
   "metadata": {
    "id": "GPhc_lkbbfsn"
   },
   "source": [
    "## Ejercicio 5\n",
    "1. Convierte la tupla del ejercicio 3 en una lista\n",
    "2. Convierte la tupla del ejercicio 3 en un set\n",
    "3. Convierte la tupla del ejercicio 3 en un diccionario. Usa también los indices"
   ]
  },
  {
   "cell_type": "code",
   "execution_count": null,
   "metadata": {
    "id": "e6ethSIDbfsn",
    "outputId": "68c7688e-f98a-4e0d-835c-4808907e6d13"
   },
   "outputs": [
    {
     "name": "stdout",
     "output_type": "stream",
     "text": [
      "[3, 20, 3, 47, 19, 3, 29, 45, 67, 78, 90, 3, 3, 5, 2, 4, 7, 9, 4, 2, 4, 3, 3, 4, 6, 7] <class 'list'>\n"
     ]
    }
   ],
   "source": [
    "ejer_9 = (3, 20, 3, 47, 19, 3, 29, 45, 67, 78, 90, 3, 3, 5, 2, 4, 7, 9, 4, 2, 4, 3, 3, 4, 6, 7)\n",
    "\n",
    "nueva_lista = list(ejer_9)\n",
    "print(nueva_lista,type(nueva_lista))\n"
   ]
  },
  {
   "cell_type": "code",
   "execution_count": null,
   "metadata": {
    "id": "ecETgsO3bfsn",
    "outputId": "bedf8a44-77f5-463a-b3a4-18915cad18fe"
   },
   "outputs": [
    {
     "name": "stdout",
     "output_type": "stream",
     "text": [
      "<class 'set'> {2, 3, 67, 5, 4, 7, 6, 9, 45, 78, 47, 19, 20, 90, 29}\n"
     ]
    }
   ],
   "source": [
    "ejer_9 = (3, 20, 3, 47, 19, 3, 29, 45, 67, 78, 90, 3, 3, 5, 2, 4, 7, 9, 4, 2, 4, 3, 3, 4, 6, 7)\n",
    "\n",
    "nuevo_set = set(ejer_9)\n",
    "print(type(nuevo_set),nuevo_set)"
   ]
  },
  {
   "cell_type": "code",
   "execution_count": null,
   "metadata": {
    "id": "Ui1CLTs_bfsn",
    "outputId": "e7a104a4-8799-42e9-deae-9c7942f156bb"
   },
   "outputs": [
    {
     "name": "stdout",
     "output_type": "stream",
     "text": [
      "{0: 3, 1: 20, 2: 3, 3: 47, 4: 19, 5: 3, 6: 29, 7: 45, 8: 67, 9: 78, 10: 90, 11: 3, 12: 3, 13: 5, 14: 2, 15: 4, 16: 7, 17: 9, 18: 4, 19: 2, 20: 4, 21: 3, 22: 3, 23: 4, 24: 6, 25: 7}\n"
     ]
    }
   ],
   "source": [
    "ejer_9 = (3, 20, 3, 47, 19, 3, 29, 45, 67, 78, 90, 3, 3, 5, 2, 4, 7, 9, 4, 2, 4, 3, 3, 4, 6, 7)\n",
    "\n",
    "diccionario = {}\n",
    "for indice in range(len(ejer_9)):\n",
    "    diccionario[indice] = ejer_9[indice]\n",
    "\n",
    "print(diccionario)\n",
    "\n",
    "\n",
    "\n",
    "\n"
   ]
  },
  {
   "cell_type": "markdown",
   "metadata": {
    "id": "wIqCgFy1bfsn"
   },
   "source": [
    "## Ejercicio 6\n",
    "Multiplica todos los valores del diccionario\n",
    "> ```ejer_6 = {1: 11, 2: 22, 3: 33, 4: 44, 5: 55}```"
   ]
  },
  {
   "cell_type": "code",
   "execution_count": null,
   "metadata": {
    "id": "bd6AIEBkbfsn",
    "outputId": "a5d35705-d247-442e-f20d-52a1988f7389"
   },
   "outputs": [
    {
     "data": {
      "text/plain": [
       "19326120"
      ]
     },
     "execution_count": 103,
     "metadata": {},
     "output_type": "execute_result"
    }
   ],
   "source": [
    "ejer_6 = {1: 11, 2: 22, 3: 33, 4: 44, 5: 55}\n",
    "\n",
    "valores = ejer_6.values()\n",
    "def multiplicar_lista(numeros):\n",
    "    producto = 1\n",
    "    for numero in numeros:\n",
    "        producto *= numero\n",
    "\n",
    "    return producto\n",
    "\n",
    "multiplicar_lista(valores)\n",
    "\n"
   ]
  },
  {
   "cell_type": "markdown",
   "metadata": {
    "id": "LUXQo_dfbfso"
   },
   "source": [
    "## Ejercicio 7\n",
    "\n",
    "1. Crea un diccionario que describa un libro, con los siguientes campos o claves: \"titulo\",\"autor\",\"idioma original\",\"año de publicación\".\n",
    "2. Crea un a lista, llamada librería.\n",
    "3. Añade cuatro libros a tu elección a la librería."
   ]
  },
  {
   "cell_type": "code",
   "execution_count": null,
   "metadata": {
    "colab": {
     "base_uri": "https://localhost:8080/"
    },
    "executionInfo": {
     "elapsed": 30,
     "status": "ok",
     "timestamp": 1740998456164,
     "user": {
      "displayName": "Sensy Music",
      "userId": "05971547940032839878"
     },
     "user_tz": -60
    },
    "id": "FwgZk_DDbfso",
    "outputId": "b52a91d3-a756-4b4a-d514-e70616e1971a"
   },
   "outputs": [
    {
     "name": "stdout",
     "output_type": "stream",
     "text": [
      "[{'titulo': 'Feminismo para principiantes', 'autor': 'Nuria Varela', 'idioma original': 'Espanol', 'ano de publicacion': '2015'}, {'titulo': 'El arte de la guerra', 'autor': 'Sun Tzu', 'idioma original': 'Chino', 'ano de publicacion': '2020'}, {'titulo': 'El monge que vendio su ferrari', 'autor': 'Robin Hobb', 'idioma original': 'Ingles', 'ano de publicacion': '2019'}, {'titulo': 'La conspiracion', 'autor': 'Paulo Coelho', 'idioma original': 'Espanol', 'ano de publicacion': '2018'}, {'titulo': 'El alquimista', 'autor': 'Paulo Coelho', 'idioma original': 'Espanol', 'ano de publicacion': '2018'}]\n"
     ]
    }
   ],
   "source": [
    "libro1 = {\n",
    "            \"titulo\":\"Feminismo para principiantes\",\n",
    "             \"autor\":\"Nuria Varela\",\n",
    "             \"idioma original\":\"Espanol\",\n",
    "             \"ano de publicacion\" : \"2015\"}\n",
    "libro2= {\n",
    "            \"titulo\":\"El arte de la guerra\",\n",
    "             \"autor\":\"Sun Tzu\",\n",
    "             \"idioma original\":\"Chino\",\n",
    "             \"ano de publicacion\" : \"2020\"}\n",
    "\n",
    "libro3= {\n",
    "            \"titulo\":\"El monge que vendio su ferrari\",\n",
    "             \"autor\":\"Robin Hobb\",\n",
    "             \"idioma original\":\"Ingles\",\n",
    "             \"ano de publicacion\" : \"2019\"}\n",
    "\n",
    "libro4= {\n",
    "            \"titulo\":\"La conspiracion\",\n",
    "             \"autor\":\"Paulo Coelho\",\n",
    "             \"idioma original\":\"Espanol\",\n",
    "             \"ano de publicacion\" : \"2018\"}\n",
    "libro5= {\n",
    "            \"titulo\":\"El alquimista\",\n",
    "             \"autor\":\"Paulo Coelho\",\n",
    "             \"idioma original\":\"Espanol\",\n",
    "             \"ano de publicacion\" : \"2018\"}\n",
    "\n",
    "\n",
    "libreria = list()\n",
    "libreria.append(libro1)\n",
    "libreria.append(libro2)\n",
    "libreria.append(libro3)\n",
    "libreria.append(libro4)\n",
    "libreria.append(libro5)\n",
    "print(libreria)\n",
    "new_books = (\"El arte de la guerra\",\"El monge que vendio su ferrari\",\"La conspiracion\",\"El alquimista\")\n",
    "\n",
    "\n",
    "\n",
    "\n",
    "\n"
   ]
  },
  {
   "cell_type": "markdown",
   "metadata": {
    "id": "muT7_Hizbfso"
   },
   "source": [
    "## Ejercicio 8\n",
    "Modifica los valores del idioma de todos los libros del ejercicio anterior para que sea \"esperanto\"\n"
   ]
  },
  {
   "cell_type": "code",
   "execution_count": null,
   "metadata": {
    "colab": {
     "base_uri": "https://localhost:8080/"
    },
    "executionInfo": {
     "elapsed": 9,
     "status": "ok",
     "timestamp": 1740999075554,
     "user": {
      "displayName": "Sensy Music",
      "userId": "05971547940032839878"
     },
     "user_tz": -60
    },
    "id": "bwHZaJRCbfso",
    "outputId": "0dbe7529-97d8-43f4-8c87-8540089e8dc5"
   },
   "outputs": [
    {
     "name": "stdout",
     "output_type": "stream",
     "text": [
      "[{'titulo': 'Feminismo para principiantes', 'autor': 'Nuria Varela', 'idioma original': 'esperanto', 'ano de publicacion': '2015'}, {'titulo': 'El arte de la guerra', 'autor': 'Sun Tzu', 'idioma original': 'esperanto', 'ano de publicacion': '2020'}, {'titulo': 'El monge que vendio su ferrari', 'autor': 'Robin Hobb', 'idioma original': 'esperanto', 'ano de publicacion': '2019'}, {'titulo': 'La conspiracion', 'autor': 'Paulo Coelho', 'idioma original': 'esperanto', 'ano de publicacion': '2018'}, {'titulo': 'El alquimista', 'autor': 'Paulo Coelho', 'idioma original': 'esperanto', 'ano de publicacion': '2018'}]\n"
     ]
    }
   ],
   "source": [
    "for libro in libreria:\n",
    "    libro[\"idioma original\"] = \"esperanto\"\n",
    "print(libreria)"
   ]
  },
  {
   "cell_type": "markdown",
   "metadata": {
    "id": "28k2jkkLbfso"
   },
   "source": [
    "## Ejercicio 9\n",
    "1. Escribe un programa que dada una variable titulo busque los libros que hay en la librería con ese título. Si no se encuentra debe devolver el mensaje `Ese no lo tengo, ¿mola?`\n",
    "2. Pruena que el programa con uno de tus libros y con otro que no contenga tu librería."
   ]
  },
  {
   "cell_type": "code",
   "execution_count": null,
   "metadata": {
    "colab": {
     "base_uri": "https://localhost:8080/"
    },
    "executionInfo": {
     "elapsed": 6565,
     "status": "ok",
     "timestamp": 1740999290434,
     "user": {
      "displayName": "Sensy Music",
      "userId": "05971547940032839878"
     },
     "user_tz": -60
    },
    "id": "la2O6ZkPbfso",
    "outputId": "dd5a7bfd-5107-4873-8892-5db4e9c96ef6"
   },
   "outputs": [
    {
     "name": "stdout",
     "output_type": "stream",
     "text": [
      "Que libro quieres?Feminismo para principiantes\n",
      "Si lo tengo\n"
     ]
    }
   ],
   "source": [
    "buscar_titulo = input(\"Que libro quieres?\")\n",
    "for libro in libreria:\n",
    "    if libro[\"titulo\"] == buscar_titulo:\n",
    "        print(\"Si lo tengo\")\n",
    "        break\n",
    "else:\n",
    "    print(\"Ese no lo tengo, ¿mola?\")\n"
   ]
  },
  {
   "cell_type": "markdown",
   "metadata": {
    "id": "v_wFcwVkbfso"
   },
   "source": [
    "## Ejercicio 10\n",
    "Convierte el programa del ejercicio 2 en una función al que se le pase el valor a buscar como un argumento posicional"
   ]
  },
  {
   "cell_type": "code",
   "execution_count": null,
   "metadata": {
    "colab": {
     "base_uri": "https://localhost:8080/"
    },
    "executionInfo": {
     "elapsed": 14,
     "status": "ok",
     "timestamp": 1741002065431,
     "user": {
      "displayName": "Sensy Music",
      "userId": "05971547940032839878"
     },
     "user_tz": -60
    },
    "id": "Wh7STOL6bfso",
    "outputId": "648c8f86-69b5-4156-d312-c6f2e2924947"
   },
   "outputs": [
    {
     "name": "stdout",
     "output_type": "stream",
     "text": [
      "7 >>>> un\n",
      "3 >>>> es\n",
      "13 >>>> es\n",
      "2 >>>> binario\n",
      "15 >>>> binario\n"
     ]
    }
   ],
   "source": [
    "ejer_3 = [\"Un\", \"árbol\", \"binario\", \"es\", \"una\", \"estructura\", \"de\", \"un\", \"tipo\", \"particular\", \"a\", \"veces\", \"no\", \"es\", \"ni\", \"binario\"]\n",
    "\n",
    "def buscar_duplicado(duplicado):\n",
    "    for indice in range(len(ejer_3)):\n",
    "        if ejer_3[indice] == duplicado:\n",
    "            print(indice,\">>>>\",ejer_3[indice])\n",
    "\n",
    "buscar_duplicado(\"un\")\n",
    "buscar_duplicado(\"es\")\n",
    "buscar_duplicado(\"binario\")\n"
   ]
  },
  {
   "cell_type": "markdown",
   "metadata": {
    "id": "xpBNtHZ0bfso"
   },
   "source": [
    "## Ejercicio 11\n",
    "Convierte el programa del ejercicio 9 en una función al que se le pasen como argumentos la librería, posicional, y el título, argumento keyword con valor \"ninguno\", por defecto."
   ]
  },
  {
   "cell_type": "code",
   "execution_count": null,
   "metadata": {
    "colab": {
     "base_uri": "https://localhost:8080/"
    },
    "executionInfo": {
     "elapsed": 5,
     "status": "ok",
     "timestamp": 1741001979123,
     "user": {
      "displayName": "Sensy Music",
      "userId": "05971547940032839878"
     },
     "user_tz": -60
    },
    "id": "J3h3aC-kbfsp",
    "outputId": "7b9b18e9-4d78-4430-fa85-aaa3d30ae1ad"
   },
   "outputs": [
    {
     "name": "stdout",
     "output_type": "stream",
     "text": [
      "Si lo tengo\n"
     ]
    }
   ],
   "source": [
    "def buscar_titulo(titulo = \"\"):\n",
    "    for libro in libreria:\n",
    "         if libro[\"titulo\"] == titulo:\n",
    "          print(\"Si lo tengo\")\n",
    "          break\n",
    "    else:\n",
    "        print(\"Ese no lo tengo, ¿mola?\")\n",
    "\n",
    "buscar_titulo(\"Feminismo para principiantes\")\n",
    "\n"
   ]
  },
  {
   "cell_type": "markdown",
   "metadata": {
    "id": "3Bcy0qewbfsp"
   },
   "source": [
    "## Ejercicio 12\n",
    "Solicitar al usuario que ingrese su dirección email. Imprimir un mensaje indicando si la dirección es válida o no, valiéndose de una función para decidirlo. Una dirección se considerará válida si contiene el símbolo \"@\"."
   ]
  },
  {
   "cell_type": "code",
   "execution_count": null,
   "metadata": {
    "colab": {
     "base_uri": "https://localhost:8080/"
    },
    "executionInfo": {
     "elapsed": 10426,
     "status": "ok",
     "timestamp": 1740999731974,
     "user": {
      "displayName": "Sensy Music",
      "userId": "05971547940032839878"
     },
     "user_tz": -60
    },
    "id": "wkz63oaObfsp",
    "outputId": "c29618d8-e0f2-4192-9739-e027891a1b90"
   },
   "outputs": [
    {
     "name": "stdout",
     "output_type": "stream",
     "text": [
      "Ingrese su emailjuanfmendez@icloud.com\n",
      "El email es valido\n"
     ]
    }
   ],
   "source": [
    "ingrese_email = input(\"Ingrese su email\")\n",
    "def validar_email(email):\n",
    "    if \"@\" in email:\n",
    "        print(\"El email es valido\")\n",
    "    else:\n",
    "        print(\"El email no es valido\")\n",
    "\n",
    "validar_email(ingrese_email)"
   ]
  },
  {
   "cell_type": "markdown",
   "metadata": {
    "id": "46W62bl4bfsp"
   },
   "source": [
    "## Ejercicio 13\n",
    "Escribe una función que compruebe si un DNI es válido, devolviendo `True` en caso afirmativo.  \n",
    "En primer lugar, el DNI debe tener entre 7 y 8 dígitos numéricos.  \n",
    "Para saber si la letra del DNI es correcta puedes utilizar el siguiente fragmento de código:\n",
    ">```Python\n",
    ">DNI= 55555555\n",
    ">palabra='TRWAGMYFPDXBNJZSQVHLCKE'\n",
    ">print('La letra del DNI es: ', palabra[DNI%23])\n",
    ">````\n"
   ]
  },
  {
   "cell_type": "code",
   "execution_count": null,
   "metadata": {
    "colab": {
     "base_uri": "https://localhost:8080/"
    },
    "executionInfo": {
     "elapsed": 6,
     "status": "ok",
     "timestamp": 1741000680199,
     "user": {
      "displayName": "Sensy Music",
      "userId": "05971547940032839878"
     },
     "user_tz": -60
    },
    "id": "Exu9q9xUbfsp",
    "outputId": "de959d02-3ed9-4bb1-9d09-6e0d916fc372"
   },
   "outputs": [
    {
     "name": "stdout",
     "output_type": "stream",
     "text": [
      "La letra del DNI es:  K\n",
      "El DNI es valido\n"
     ]
    }
   ],
   "source": [
    "\n",
    "DNI= 55555555\n",
    "palabra='TRWAGMYFPDXBNJZSQVHLCKE'\n",
    "print('La letra del DNI es: ', palabra[DNI%23])\n",
    "\n",
    "\n",
    "if len(str(DNI)) >= 7 and len(str(DNI)) <= 8:\n",
    "    print(\"El DNI es valido\")\n",
    "else:\n",
    "    print(\"El DNI no es valido\")"
   ]
  },
  {
   "cell_type": "code",
   "execution_count": null,
   "metadata": {
    "id": "E7lKWupZrUK4"
   },
   "outputs": [],
   "source": []
  }
 ],
 "metadata": {
  "colab": {
   "provenance": []
  },
  "kernelspec": {
   "display_name": "Python 3",
   "language": "python",
   "name": "python3"
  },
  "language_info": {
   "codemirror_mode": {
    "name": "ipython",
    "version": 3
   },
   "file_extension": ".py",
   "mimetype": "text/x-python",
   "name": "python",
   "nbconvert_exporter": "python",
   "pygments_lexer": "ipython3",
   "version": "3.13.2"
  },
  "orig_nbformat": 4
 },
 "nbformat": 4,
 "nbformat_minor": 0
}
