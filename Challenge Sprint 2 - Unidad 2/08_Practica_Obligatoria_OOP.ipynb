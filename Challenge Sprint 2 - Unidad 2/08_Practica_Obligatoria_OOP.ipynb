{
 "cells": [
  {
   "cell_type": "markdown",
   "metadata": {},
   "source": [
    "# PRACTICA OBLIGATORIA PYTHON POO (Programación Orientada a Objetos)"
   ]
  },
  {
   "cell_type": "markdown",
   "metadata": {},
   "source": [
    "* La práctica obligatoria de esta unidad consiste en un único ejercicio tomado prestado de un sitio muy interesante [codewars](https://www.codewars.com/kata/5a03af9606d5b65ff7000009). Descarga este notebook en tu ordenador y trabaja en local.  \n",
    "* Recuerda que debes subirla a tu repositorio personal antes de la sesión en vivo para que puntúe adecuadamente y puedas participar en dicha sesión.  \n",
    "* Recuerda también que no es necesario que esté perfecta, sólo es necesario que se vea el esfuerzo. \n",
    "* Esta práctica se resolverá en la sesión en vivo correspondiente y la solución se publicará en el repo del curso. "
   ]
  },
  {
   "cell_type": "markdown",
   "metadata": {},
   "source": [
    "## Ejercicio"
   ]
  },
  {
   "cell_type": "markdown",
   "metadata": {},
   "source": [
    "Una compañía está abriendo un banco, pero el programador que está diseñando la clase de usuario cometió algunos errores. Necesitan tu ayuda.\n",
    "\n",
    "Debes incluir lo siguiente:\n",
    "\n",
    "**Un método de retiro (withdraw)**\n",
    "- Resta dinero del saldo.\n",
    "- Un parámetro, dinero a retirar.\n",
    "- Lanza un ValueError si no hay suficiente dinero para retirar.\n",
    "- Devuelve una cadena con el nombre y el saldo (ver ejemplos).\n",
    "\n",
    "**Un método de transfer (transfer_money)**\n",
    "- Agrega dinero al saldo\n",
    "- Dos parámetros, otro usuario y dinero.\n",
    "- El otro usuario siempre será válido.\n",
    "- Lanza un ValueError si el otro usuario no tiene suficiente dinero.\n",
    "- Lanza un ValueError si checking_account no es verdadero para el otro usuario.\n",
    "- Devuelve una cadena con el nombre y el saldo más el nombre del otro y el saldo del otro (ver ejemplos).\n",
    "\n",
    "**Un método para agregar efectivo (add_cash)**\n",
    "- Agrega dinero al saldo.\n",
    "- Un parámetro, dinero a agregar.\n",
    "- Devuelve una cadena con el nombre y el saldo (ver ejemplos).\n",
    "\n",
    "**Notas adicionales:**\n",
    "\n",
    "- Checking_account debe almacenarse como un valor booleano.\n",
    "- Ningún número de entrada será negativo.\n",
    "- La salida debe terminar con un punto.\n",
    "- No se usarán números flotantes, por lo que el saldo debería ser un entero.\n",
    "- No se utilizará ninguna moneda."
   ]
  },
  {
   "cell_type": "markdown",
   "metadata": {},
   "source": [
    "**HINT**: Para \"lanzar\" un error necesitarás emplear el comando ```raise```, [aquí](https://www.w3schools.com/python/gloss_python_raise.asp) tienes una ayudita, aunque puedes buscar más por tu cuenta.tuple"
   ]
  },
  {
   "cell_type": "markdown",
   "metadata": {},
   "source": [
    "**Añadido 1/11/23**: Algunos ejemplos del funcionamiento esperado:"
   ]
  },
  {
   "cell_type": "code",
   "execution_count": 70,
   "metadata": {},
   "outputs": [
    {
     "name": "stdout",
     "output_type": "stream",
     "text": [
      "Jeff tiene 0.\n",
      "Joe tiene 150.\n",
      "Jeff tiene 50.\n",
      "Joe tiene 50 y Jeff tiene 0\n"
     ]
    }
   ],
   "source": [
    "class User:\n",
    "\n",
    "    \n",
    "    def __init__(self, name, balance = int, checking = bool):\n",
    "        self.name = name\n",
    "        self.balance = balance\n",
    "        self.checking = checking\n",
    "\n",
    "    def withdraw(self,retiro):\n",
    "        \"\"\"- Resta dinero del saldo.\n",
    "            - Un parámetro, dinero a retirar.\n",
    "            - Lanza un ValueError si no hay suficiente dinero para retirar.\n",
    "            -Devuelve una cadena con el nombre y el saldo (ver ejemplos).\"\"\"\n",
    "\n",
    "        \n",
    "        if retiro < 0:\n",
    "            raise ValueError(\"La cantidad a retirar no puede ser negativa.\") \n",
    "\n",
    "        if retiro > self.balance:\n",
    "            raise ValueError (\"Su saldo es insuficiente\")\n",
    "        self.balance = self.balance - retiro\n",
    "        return f\"{self.name} tiene {self.balance}.\"\n",
    "    \n",
    "\n",
    "    def add_cash(self,cash):\n",
    "        \"\"\" - Agrega dinero al saldo.\n",
    "            - Un parámetro, dinero a agregar.\n",
    "            - Devuelve una cadena con el nombre y el saldo (ver ejemplos).\"\"\"\n",
    "        \n",
    "        if cash < 0:\n",
    "            raise ValueError(\"La cantidad a depositar no puede ser negativa.\")\n",
    "        \n",
    "        self.balance = self.balance + cash\n",
    "        return f\"{self.name} tiene {self.balance}.\"\n",
    "\n",
    "\n",
    "\n",
    "    def transfer_money(self,usuario,dinero):\n",
    "        \"\"\" - Agrega dinero al saldo\n",
    "            - Dos parámetros, otro usuario y dinero.\n",
    "            - El otro usuario siempre será válido.\n",
    "            - Lanza un ValueError si el otro usuario no tiene suficiente dinero.\n",
    "            - Lanza un ValueError si checking_account no es verdadero para el otro usuario.\n",
    "            - Devuelve una cadena con el nombre y el saldo más el nombre del otro y el saldo del otro (ver ejemplos).\"\"\"\n",
    "        \n",
    "\n",
    "        if dinero < 0:\n",
    "            raise ValueError(\"La cantidad a transferir no puede ser negativa.\")\n",
    "\n",
    "        if dinero > usuario.balance:\n",
    "            raise ValueError (\"Dinero insuficiente\")\n",
    "        \n",
    "        if not usuario.checking:\n",
    "            raise ValueError (\"Checking locked\")\n",
    "\n",
    "        self.balance =+ dinero\n",
    "        usuario.balance = usuario.balance - dinero\n",
    "        return f\"{self.name} tiene {self.balance} y {usuario.name} tiene {usuario.balance}\"\n",
    "\n",
    "\n",
    "\n",
    "\n",
    "user1 = User(\"Jeff\", 100, checking = True)\n",
    "user2 = User(\"Joe\", 100, checking = False)\n",
    "        \n",
    "print(user1.withdraw(100))\n",
    "print(user2.add_cash(50))\n",
    "\n",
    "print(user1.add_cash(50))\n",
    "\n",
    "print(user2.transfer_money(user1,50))  \n",
    "\n",
    "#Dinero insuficiente\n",
    "#print(user2.transfer_money(user1,100))       \n",
    "\n",
    "#Checking Locked\n",
    "#print(user1.transfer_money(user2,50))\n",
    "\n",
    "#ValueError: La cantidad a retirar no puede ser negativa.\n",
    "#print(user1.withdraw(-100))\n",
    "\n",
    "#ValueError: La cantidad a depositar no puede ser negativa.\n",
    "#print(user2.add_cash(-50))\n",
    "\n",
    "\n",
    "#ValueError: La cantidad a transferir no puede ser negativa.\n",
    "#print(user2.transfer_money(user1,-50)) \n",
    "    "
   ]
  },
  {
   "cell_type": "code",
   "execution_count": null,
   "metadata": {},
   "outputs": [],
   "source": []
  },
  {
   "cell_type": "code",
   "execution_count": null,
   "metadata": {},
   "outputs": [],
   "source": []
  },
  {
   "cell_type": "code",
   "execution_count": null,
   "metadata": {},
   "outputs": [],
   "source": []
  },
  {
   "cell_type": "code",
   "execution_count": 1,
   "metadata": {},
   "outputs": [
    {
     "ename": "NameError",
     "evalue": "name 'User' is not defined",
     "output_type": "error",
     "traceback": [
      "\u001b[0;31m---------------------------------------------------------------------------\u001b[0m",
      "\u001b[0;31mNameError\u001b[0m                                 Traceback (most recent call last)",
      "Cell \u001b[0;32mIn[1], line 1\u001b[0m\n\u001b[0;32m----> 1\u001b[0m Jeff \u001b[38;5;241m=\u001b[39m \u001b[43mUser\u001b[49m(\u001b[38;5;124m'\u001b[39m\u001b[38;5;124mJeff\u001b[39m\u001b[38;5;124m'\u001b[39m, \u001b[38;5;241m70\u001b[39m, \u001b[38;5;28;01mTrue\u001b[39;00m)\n\u001b[1;32m      2\u001b[0m Joe \u001b[38;5;241m=\u001b[39m User(\u001b[38;5;124m'\u001b[39m\u001b[38;5;124mJoe\u001b[39m\u001b[38;5;124m'\u001b[39m, \u001b[38;5;241m70\u001b[39m, \u001b[38;5;28;01mFalse\u001b[39;00m)\n\u001b[1;32m      4\u001b[0m Jeff\u001b[38;5;241m.\u001b[39mwithdraw(\u001b[38;5;241m2\u001b[39m) \u001b[38;5;66;03m# Devuelve 'Jeff tiene 68.'\u001b[39;00m\n",
      "\u001b[0;31mNameError\u001b[0m: name 'User' is not defined"
     ]
    }
   ],
   "source": [
    "Jeff = User('Jeff', 70, True)\n",
    "Joe = User('Joe', 70, False)\n",
    "\n",
    "Jeff.withdraw(2) # Devuelve 'Jeff tiene 68.'\n",
    "\n",
    "Joe.check(Jeff, 50) # Devuelve 'Joe tiene 120 y Jeff tiene 18.'\n",
    "\n",
    "Jeff.check(Joe, 80) # Lanza un ValueError\n",
    "\n",
    "Joe.checking_account = True # Habilita la cuenta corriente para Joe\n",
    "\n",
    "Jeff.check(Joe, 80) # Devuelve 'Jeff tiene 98 y Joe tiene 40'\n",
    "\n",
    "Joe.check(Jeff, 100) # Lanza un ValueError\n",
    "\n",
    "Jeff.add_cash(20.00) # Devuelve 'Jeff tiene 118.'\n"
   ]
  },
  {
   "cell_type": "code",
   "execution_count": null,
   "metadata": {},
   "outputs": [],
   "source": []
  }
 ],
 "metadata": {
  "kernelspec": {
   "display_name": "Python 3",
   "language": "python",
   "name": "python3"
  },
  "language_info": {
   "codemirror_mode": {
    "name": "ipython",
    "version": 3
   },
   "file_extension": ".py",
   "mimetype": "text/x-python",
   "name": "python",
   "nbconvert_exporter": "python",
   "pygments_lexer": "ipython3",
   "version": "3.13.2"
  }
 },
 "nbformat": 4,
 "nbformat_minor": 4
}
